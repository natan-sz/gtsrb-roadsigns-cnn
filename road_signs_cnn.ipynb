{
 "cells": [
  {
   "cell_type": "markdown",
   "id": "9d2083f7",
   "metadata": {},
   "source": [
    "<h1><center>🚸 GTSRB German Road Signs (Convolutional Neural Network) 🚸</center></h1>\n",
    "<p><center><i>By Natan Szczepaniak</i></center></p>"
   ]
  },
  {
   "cell_type": "markdown",
   "id": "e515c59a",
   "metadata": {},
   "source": [
    "<img width=\"400px\" src=\"road_signs_header.jpeg\"/>"
   ]
  },
  {
   "cell_type": "markdown",
   "id": "034ef830",
   "metadata": {},
   "source": [
    "Convolutional Neural Network......."
   ]
  },
  {
   "cell_type": "code",
   "execution_count": 120,
   "id": "38e57826",
   "metadata": {},
   "outputs": [],
   "source": [
    "# Uncomment if missing dependencies\n",
    "# !pip3 install wget tensorflow numpy matplotlib Pillow pandas tqdm scitkit-learn"
   ]
  },
  {
   "cell_type": "markdown",
   "id": "c77d8885",
   "metadata": {},
   "source": [
    "## 📊 Download, Preprocess and put image data into numpy arrays\n",
    "\n",
    "The code below downloads the dataset from the ERDA website (if not downloaded already) and loads it into a neat format in a numpy array.\n",
    "\n",
    "Unfortunately the images are not of uniform shape which would make it difficult to train our model on as it would mean irregular input parameters, this means we need to resize the images to 30x30x3 dimensions. Usually I would do this once, save the dataset and load it in later but I did this verbosely for demonstration purposes.\n",
    "\n",
    "The [source of the data](https://benchmark.ini.rub.de) provided a sample code to load in the data from their website however it was written in Python2 using outdated libraries so I redid it myself."
   ]
  },
  {
   "cell_type": "code",
   "execution_count": 121,
   "id": "58feb8ac-a91e-4507-ac49-f14be8e539d6",
   "metadata": {},
   "outputs": [
    {
     "name": "stdout",
     "output_type": "stream",
     "text": [
      "TensorFlow Version: 2.8.0\n"
     ]
    }
   ],
   "source": [
    "import os\n",
    "import wget\n",
    "import zipfile\n",
    "import tensorflow as tf\n",
    "from keras.preprocessing.image import ImageDataGenerator\n",
    "from sklearn.model_selection import train_test_split\n",
    "import matplotlib.pyplot as plt\n",
    "import numpy as np\n",
    "from numpy.random import randint\n",
    "from numpy.random import choice\n",
    "import pandas as pd\n",
    "from PIL import Image\n",
    "from tqdm import tqdm\n",
    "from tensorflow import keras\n",
    "from tensorflow.math import confusion_matrix\n",
    "import seaborn as sns\n",
    "\n",
    "from road_labels import label_name\n",
    "from colours import colour\n",
    "\n",
    "# check TF version\n",
    "print(\"TensorFlow Version: \" + tf.__version__)"
   ]
  },
  {
   "cell_type": "code",
   "execution_count": 122,
   "id": "206ba1cc-0a1c-4e95-b0a4-b2ea594da30f",
   "metadata": {},
   "outputs": [],
   "source": [
    "### LOAD IN THE DATASET (276MB) ###\n",
    "\n",
    "# Image Constants & Dimensions\n",
    "IMG_WIDTH = 40\n",
    "IMG_HEIGHT = 40\n",
    "CHANNELS = 3\n",
    "CLASSES = 43\n",
    "\n",
    "# Location of data\n",
    "CUR_DIR = os.getcwd()\n",
    "URL = \"https://sid.erda.dk/public/archives/daaeac0d7ce1152aea9b61d9f1e19370/GTSRB_Final_Training_Images.zip\""
   ]
  },
  {
   "cell_type": "code",
   "execution_count": 123,
   "id": "4a574720",
   "metadata": {},
   "outputs": [],
   "source": [
    "# Function to load in data given a path\n",
    "def load_roadsigns(path):\n",
    "    '''Reads traffic sign data and resizes to the correct WIDTH and HEIGHT for training.\n",
    "    '''\n",
    "    \n",
    "    # Initialise the output arrays\n",
    "    X = [] # images\n",
    "    y = np.array([]) # labels\n",
    "    \n",
    "    print(\"Resizing images...\")\n",
    "    # Iterate through all the directories, pull out images and resize\n",
    "    for i in range(CLASSES):\n",
    "        \n",
    "        # Messing around with paths of where the data is found\n",
    "        class_label = f\"{i:05}\"\n",
    "        class_folder = path+f\"/{class_label}\"\n",
    "        datasheet = pd.read_csv(class_folder+f\"/GT-{class_label}.csv\",delimiter=\";\")\n",
    "\n",
    "        image_files = list(datasheet[\"Filename\"])\n",
    "        labels = list(datasheet[\"ClassId\"])\n",
    "        \n",
    "        y = np.append(y,labels)\n",
    "        \n",
    "        # Open each image, resize and save into numpy array\n",
    "        for image_file in tqdm(image_files):\n",
    "            try: \n",
    "                image = Image.open(class_folder+\"/\"+image_file) \n",
    "                image = image.resize((IMG_WIDTH,IMG_HEIGHT)) \n",
    "                image = np.array(image)\n",
    "                X.append(image)\n",
    "            except: \n",
    "                print(\"Erorr loading in image\")\n",
    "                break\n",
    "                \n",
    "    # Converting to numpy arrays\n",
    "    # It was actually quicker to do the appending in native lists and converting lol ¯\\_(ツ)_/¯\n",
    "    X = np.array(X)\n",
    "    y = y.astype(int)\n",
    "                \n",
    "    return X, y"
   ]
  },
  {
   "cell_type": "code",
   "execution_count": 124,
   "id": "aa230d22",
   "metadata": {
    "scrolled": true
   },
   "outputs": [
    {
     "name": "stdout",
     "output_type": "stream",
     "text": [
      "Dataset already downloaded.\n",
      "Resizing images...\n"
     ]
    },
    {
     "name": "stderr",
     "output_type": "stream",
     "text": [
      "100%|███████████████████████████████████████| 210/210 [00:00<00:00, 1528.17it/s]\n",
      "100%|██████████████████████████████████████| 2220/2220 [00:02<00:00, 850.91it/s]\n",
      "100%|█████████████████████████████████████| 2250/2250 [00:01<00:00, 1323.40it/s]\n",
      "100%|█████████████████████████████████████| 1410/1410 [00:01<00:00, 1288.37it/s]\n",
      "100%|█████████████████████████████████████| 1980/1980 [00:01<00:00, 1243.44it/s]\n",
      "100%|██████████████████████████████████████| 1860/1860 [00:01<00:00, 934.77it/s]\n",
      "100%|███████████████████████████████████████| 420/420 [00:00<00:00, 1048.84it/s]\n",
      "100%|██████████████████████████████████████| 1440/1440 [00:01<00:00, 863.95it/s]\n",
      "100%|██████████████████████████████████████| 1410/1410 [00:01<00:00, 922.70it/s]\n",
      "100%|██████████████████████████████████████| 1470/1470 [00:01<00:00, 895.52it/s]\n",
      "100%|█████████████████████████████████████| 2010/2010 [00:01<00:00, 1208.16it/s]\n",
      "100%|█████████████████████████████████████| 1320/1320 [00:01<00:00, 1087.00it/s]\n",
      "100%|██████████████████████████████████████| 2100/2100 [00:02<00:00, 860.21it/s]\n",
      "100%|██████████████████████████████████████| 2160/2160 [00:04<00:00, 527.58it/s]\n",
      "100%|████████████████████████████████████████| 780/780 [00:01<00:00, 447.51it/s]\n",
      "100%|████████████████████████████████████████| 630/630 [00:00<00:00, 728.40it/s]\n",
      "100%|████████████████████████████████████████| 420/420 [00:00<00:00, 585.36it/s]\n",
      "100%|█████████████████████████████████████| 1110/1110 [00:01<00:00, 1082.21it/s]\n",
      "100%|██████████████████████████████████████| 1200/1200 [00:02<00:00, 484.82it/s]\n",
      "100%|████████████████████████████████████████| 210/210 [00:00<00:00, 523.82it/s]\n",
      "100%|████████████████████████████████████████| 360/360 [00:00<00:00, 947.02it/s]\n",
      "100%|████████████████████████████████████████| 330/330 [00:00<00:00, 593.29it/s]\n",
      "100%|████████████████████████████████████████| 390/390 [00:00<00:00, 657.38it/s]\n",
      "100%|███████████████████████████████████████| 510/510 [00:00<00:00, 1300.77it/s]\n",
      "100%|███████████████████████████████████████| 270/270 [00:00<00:00, 2546.21it/s]\n",
      "100%|██████████████████████████████████████| 1500/1500 [00:01<00:00, 775.82it/s]\n",
      "100%|███████████████████████████████████████| 600/600 [00:00<00:00, 1111.70it/s]\n",
      "100%|███████████████████████████████████████| 240/240 [00:00<00:00, 1106.35it/s]\n",
      "100%|████████████████████████████████████████| 540/540 [00:00<00:00, 844.33it/s]\n",
      "100%|████████████████████████████████████████| 270/270 [00:00<00:00, 471.95it/s]\n",
      "100%|████████████████████████████████████████| 450/450 [00:00<00:00, 588.96it/s]\n",
      "100%|████████████████████████████████████████| 780/780 [00:01<00:00, 637.48it/s]\n",
      "100%|████████████████████████████████████████| 240/240 [00:00<00:00, 990.61it/s]\n",
      "100%|████████████████████████████████████████| 689/689 [00:01<00:00, 644.05it/s]\n",
      "100%|████████████████████████████████████████| 420/420 [00:00<00:00, 803.11it/s]\n",
      "100%|██████████████████████████████████████| 1200/1200 [00:01<00:00, 827.28it/s]\n",
      "100%|███████████████████████████████████████| 390/390 [00:00<00:00, 1123.12it/s]\n",
      "100%|███████████████████████████████████████| 210/210 [00:00<00:00, 1225.28it/s]\n",
      "100%|██████████████████████████████████████| 2070/2070 [00:02<00:00, 990.06it/s]\n",
      "100%|████████████████████████████████████████| 300/300 [00:00<00:00, 568.09it/s]\n",
      "100%|████████████████████████████████████████| 360/360 [00:00<00:00, 999.63it/s]\n",
      "100%|███████████████████████████████████████| 240/240 [00:00<00:00, 1163.18it/s]\n",
      "100%|███████████████████████████████████████| 240/240 [00:00<00:00, 1313.87it/s]\n"
     ]
    }
   ],
   "source": [
    "# Check if file already downloaded\n",
    "if not os.path.isfile(\"GTSRB_Final_Training_Images.zip\"):\n",
    "    if not os.path.isdir(\"GTSRB\"):\n",
    "        print(\"Downloading Dataset...\")\n",
    "        wget.download(URL,\".\")\n",
    "        print(\"Downloaded!\")\n",
    "        \n",
    "        # Unzip the file into a folder\n",
    "        with zipfile.ZipFile(\"GTSRB_Final_Training_Images.zip\",\"r\") as zip_ref:\n",
    "            zip_ref.extractall(\".\")\n",
    "        \n",
    "        os.remove(\"GTSRB_Final_Training_Images.zip\")\n",
    "    else:\n",
    "        print(\"Dataset already downloaded.\")\n",
    "else:\n",
    "    print(\"Dataset already downloaded.\")\n",
    "    \n",
    "# Load in dataset into memory\n",
    "X, y = load_roadsigns(\"GTSRB/Final_Training/Images\")\n",
    "X = X/255"
   ]
  },
  {
   "cell_type": "markdown",
   "id": "ed47b04e",
   "metadata": {},
   "source": [
    "# 🌎 Data Exploration\n",
    "Now that the dataset is downloaded and reshaped to 30x30x3 dimensions we can look at what the images actually look like and the labels that are available to us.\n",
    "\n",
    "I have created a seperate python module which holds the corresponding names for label numbers. This is in a form of a simple dictionary which can be referenced for ease of use and to reduce bloated code in this notebook."
   ]
  },
  {
   "cell_type": "code",
   "execution_count": 125,
   "id": "9b916d72",
   "metadata": {},
   "outputs": [
    {
     "name": "stdout",
     "output_type": "stream",
     "text": [
      "Dimensions of images array: (39209, 40, 40, 3)\n",
      "Dimensions of labels array: (39209,)\n"
     ]
    }
   ],
   "source": [
    "print(f\"Dimensions of images array: {X.shape}\")\n",
    "print(f\"Dimensions of labels array: {y.shape}\")"
   ]
  },
  {
   "cell_type": "markdown",
   "id": "faf440cb",
   "metadata": {},
   "source": [
    "We have around ~40k images to play around with making this a sizable dataset to split up for training, testing and validation. Before we do this though, lets explore the images some more."
   ]
  },
  {
   "cell_type": "code",
   "execution_count": 126,
   "id": "2d194be7",
   "metadata": {
    "scrolled": true
   },
   "outputs": [],
   "source": [
    "maps = [\"Reds\",\"Greens\",\"Blues\"]\n",
    "\n",
    "# Here we can visualise our images and their corresponding labels\n",
    "def plot_sign(X,y,n):\n",
    "    plt.imshow(X[n])\n",
    "    plt.title(label_name[y[n]])\n",
    "\n",
    "def plot_sign_rgb(X,y,n):\n",
    "    fig, ax = plt.subplots(1,CHANNELS,figsize=(10,10))\n",
    "    for i in range(CHANNELS):\n",
    "        ax[i].imshow(X[n][:, :, i],cmap=maps[i])\n",
    "        ax[i].title.set_text(str(maps[i]))"
   ]
  },
  {
   "cell_type": "code",
   "execution_count": 127,
   "id": "1b8ba036",
   "metadata": {},
   "outputs": [
    {
     "data": {
      "image/png": "[encoded data removed]",
      "text/plain": [
       "<Figure size 432x288 with 1 Axes>"
      ]
     },
     "metadata": {
      "needs_background": "light"
     },
     "output_type": "display_data"
    },
    {
     "data": {
      "image/png": "[encoded data removed]",
      "text/plain": [
       "<Figure size 720x720 with 3 Axes>"
      ]
     },
     "metadata": {
      "needs_background": "light"
     },
     "output_type": "display_data"
    }
   ],
   "source": [
    "# Change index to see image and associated label\n",
    "n = 0\n",
    "\n",
    "# Plots actual image\n",
    "plot_sign(X,y,n)\n",
    "# Plots RGB decomposition, the darker the higher value\n",
    "plot_sign_rgb(X,y,n)"
   ]
  },
  {
   "cell_type": "markdown",
   "id": "960b24e6",
   "metadata": {},
   "source": [
    "# MAKE SURE TO ADD ONE FIG WHICH SHOWS ALL CLASSES"
   ]
  },
  {
   "cell_type": "code",
   "execution_count": 128,
   "id": "45d0fc7b",
   "metadata": {
    "scrolled": false
   },
   "outputs": [
    {
     "data": {
      "text/plain": [
       "<AxesSubplot:title={'center':'Class Distribution of Images'}, xlabel='label_name', ylabel='no. of images'>"
      ]
     },
     "execution_count": 128,
     "metadata": {},
     "output_type": "execute_result"
    },
    {
     "data": {
      "image/png": "[encoded data removed]",
      "text/plain": [
       "<Figure size 1080x360 with 1 Axes>"
      ]
     },
     "metadata": {
      "needs_background": "light"
     },
     "output_type": "display_data"
    }
   ],
   "source": [
    "def format_label(label):\n",
    "    return label_name[label]+f\" ({label})\"\n",
    "\n",
    "# Plotting the distribution of the data\n",
    "dist = pd.DataFrame({\"label\":np.unique(y),\"count\":np.bincount(y)})\n",
    "dist[\"label_name\"] = dist[\"label\"].apply(format_label)\n",
    "dist = dist.sort_values(\"count\",ascending=False)\n",
    "\n",
    "dist.plot(kind=\"bar\",x=\"label_name\",y=\"count\",figsize=(15,5),title=\"Class Distribution of Images\",ylabel=\"no. of images\")"
   ]
  },
  {
   "cell_type": "code",
   "execution_count": 129,
   "id": "1de1f16b",
   "metadata": {},
   "outputs": [
    {
     "data": {
      "text/html": [
       "<div>\n",
       "<style scoped>\n",
       "    .dataframe tbody tr th:only-of-type {\n",
       "        vertical-align: middle;\n",
       "    }\n",
       "\n",
       "    .dataframe tbody tr th {\n",
       "        vertical-align: top;\n",
       "    }\n",
       "\n",
       "    .dataframe thead th {\n",
       "        text-align: right;\n",
       "    }\n",
       "</style>\n",
       "<table border=\"1\" class=\"dataframe\">\n",
       "  <thead>\n",
       "    <tr style=\"text-align: right;\">\n",
       "      <th></th>\n",
       "      <th>label</th>\n",
       "      <th>count</th>\n",
       "      <th>label_name</th>\n",
       "    </tr>\n",
       "  </thead>\n",
       "  <tbody>\n",
       "    <tr>\n",
       "      <th>2</th>\n",
       "      <td>2</td>\n",
       "      <td>2250</td>\n",
       "      <td>Speed limit (50km/h) (2)</td>\n",
       "    </tr>\n",
       "    <tr>\n",
       "      <th>1</th>\n",
       "      <td>1</td>\n",
       "      <td>2220</td>\n",
       "      <td>Speed limit (30km/h) (1)</td>\n",
       "    </tr>\n",
       "    <tr>\n",
       "      <th>13</th>\n",
       "      <td>13</td>\n",
       "      <td>2160</td>\n",
       "      <td>Yield (13)</td>\n",
       "    </tr>\n",
       "    <tr>\n",
       "      <th>12</th>\n",
       "      <td>12</td>\n",
       "      <td>2100</td>\n",
       "      <td>Priority road (12)</td>\n",
       "    </tr>\n",
       "    <tr>\n",
       "      <th>38</th>\n",
       "      <td>38</td>\n",
       "      <td>2070</td>\n",
       "      <td>Keep right (38)</td>\n",
       "    </tr>\n",
       "    <tr>\n",
       "      <th>10</th>\n",
       "      <td>10</td>\n",
       "      <td>2010</td>\n",
       "      <td>No passing veh over 3.5 tons (10)</td>\n",
       "    </tr>\n",
       "    <tr>\n",
       "      <th>4</th>\n",
       "      <td>4</td>\n",
       "      <td>1980</td>\n",
       "      <td>Speed limit (70km/h) (4)</td>\n",
       "    </tr>\n",
       "    <tr>\n",
       "      <th>5</th>\n",
       "      <td>5</td>\n",
       "      <td>1860</td>\n",
       "      <td>Speed limit (80km/h) (5)</td>\n",
       "    </tr>\n",
       "    <tr>\n",
       "      <th>25</th>\n",
       "      <td>25</td>\n",
       "      <td>1500</td>\n",
       "      <td>Road work (25)</td>\n",
       "    </tr>\n",
       "    <tr>\n",
       "      <th>9</th>\n",
       "      <td>9</td>\n",
       "      <td>1470</td>\n",
       "      <td>No passing (9)</td>\n",
       "    </tr>\n",
       "    <tr>\n",
       "      <th>7</th>\n",
       "      <td>7</td>\n",
       "      <td>1440</td>\n",
       "      <td>Speed limit (100km/h) (7)</td>\n",
       "    </tr>\n",
       "    <tr>\n",
       "      <th>3</th>\n",
       "      <td>3</td>\n",
       "      <td>1410</td>\n",
       "      <td>Speed limit (60km/h) (3)</td>\n",
       "    </tr>\n",
       "    <tr>\n",
       "      <th>8</th>\n",
       "      <td>8</td>\n",
       "      <td>1410</td>\n",
       "      <td>Speed limit (120km/h) (8)</td>\n",
       "    </tr>\n",
       "    <tr>\n",
       "      <th>11</th>\n",
       "      <td>11</td>\n",
       "      <td>1320</td>\n",
       "      <td>Right-of-way at intersection (11)</td>\n",
       "    </tr>\n",
       "    <tr>\n",
       "      <th>35</th>\n",
       "      <td>35</td>\n",
       "      <td>1200</td>\n",
       "      <td>Ahead only (35)</td>\n",
       "    </tr>\n",
       "    <tr>\n",
       "      <th>18</th>\n",
       "      <td>18</td>\n",
       "      <td>1200</td>\n",
       "      <td>General caution (18)</td>\n",
       "    </tr>\n",
       "    <tr>\n",
       "      <th>17</th>\n",
       "      <td>17</td>\n",
       "      <td>1110</td>\n",
       "      <td>No entry (17)</td>\n",
       "    </tr>\n",
       "    <tr>\n",
       "      <th>31</th>\n",
       "      <td>31</td>\n",
       "      <td>780</td>\n",
       "      <td>Wild animals crossing (31)</td>\n",
       "    </tr>\n",
       "    <tr>\n",
       "      <th>14</th>\n",
       "      <td>14</td>\n",
       "      <td>780</td>\n",
       "      <td>Stop (14)</td>\n",
       "    </tr>\n",
       "    <tr>\n",
       "      <th>33</th>\n",
       "      <td>33</td>\n",
       "      <td>689</td>\n",
       "      <td>Turn right ahead (33)</td>\n",
       "    </tr>\n",
       "    <tr>\n",
       "      <th>15</th>\n",
       "      <td>15</td>\n",
       "      <td>630</td>\n",
       "      <td>No vehicles (15)</td>\n",
       "    </tr>\n",
       "    <tr>\n",
       "      <th>26</th>\n",
       "      <td>26</td>\n",
       "      <td>600</td>\n",
       "      <td>Traffic signals (26)</td>\n",
       "    </tr>\n",
       "    <tr>\n",
       "      <th>28</th>\n",
       "      <td>28</td>\n",
       "      <td>540</td>\n",
       "      <td>Children crossing (28)</td>\n",
       "    </tr>\n",
       "    <tr>\n",
       "      <th>23</th>\n",
       "      <td>23</td>\n",
       "      <td>510</td>\n",
       "      <td>Slippery road (23)</td>\n",
       "    </tr>\n",
       "    <tr>\n",
       "      <th>30</th>\n",
       "      <td>30</td>\n",
       "      <td>450</td>\n",
       "      <td>Beware of ice/snow (30)</td>\n",
       "    </tr>\n",
       "    <tr>\n",
       "      <th>16</th>\n",
       "      <td>16</td>\n",
       "      <td>420</td>\n",
       "      <td>Veh &gt; 3.5 tons prohibited (16)</td>\n",
       "    </tr>\n",
       "    <tr>\n",
       "      <th>34</th>\n",
       "      <td>34</td>\n",
       "      <td>420</td>\n",
       "      <td>Turn left ahead (34)</td>\n",
       "    </tr>\n",
       "    <tr>\n",
       "      <th>6</th>\n",
       "      <td>6</td>\n",
       "      <td>420</td>\n",
       "      <td>End of speed limit (80km/h) (6)</td>\n",
       "    </tr>\n",
       "    <tr>\n",
       "      <th>36</th>\n",
       "      <td>36</td>\n",
       "      <td>390</td>\n",
       "      <td>Go straight or right (36)</td>\n",
       "    </tr>\n",
       "    <tr>\n",
       "      <th>22</th>\n",
       "      <td>22</td>\n",
       "      <td>390</td>\n",
       "      <td>Bumpy road (22)</td>\n",
       "    </tr>\n",
       "    <tr>\n",
       "      <th>40</th>\n",
       "      <td>40</td>\n",
       "      <td>360</td>\n",
       "      <td>Roundabout mandatory (40)</td>\n",
       "    </tr>\n",
       "    <tr>\n",
       "      <th>20</th>\n",
       "      <td>20</td>\n",
       "      <td>360</td>\n",
       "      <td>Dangerous curve right (20)</td>\n",
       "    </tr>\n",
       "    <tr>\n",
       "      <th>21</th>\n",
       "      <td>21</td>\n",
       "      <td>330</td>\n",
       "      <td>Double curve (21)</td>\n",
       "    </tr>\n",
       "    <tr>\n",
       "      <th>39</th>\n",
       "      <td>39</td>\n",
       "      <td>300</td>\n",
       "      <td>Keep left (39)</td>\n",
       "    </tr>\n",
       "    <tr>\n",
       "      <th>29</th>\n",
       "      <td>29</td>\n",
       "      <td>270</td>\n",
       "      <td>Bicycles crossing (29)</td>\n",
       "    </tr>\n",
       "    <tr>\n",
       "      <th>24</th>\n",
       "      <td>24</td>\n",
       "      <td>270</td>\n",
       "      <td>Road narrows on the right (24)</td>\n",
       "    </tr>\n",
       "    <tr>\n",
       "      <th>41</th>\n",
       "      <td>41</td>\n",
       "      <td>240</td>\n",
       "      <td>End of no passing (41)</td>\n",
       "    </tr>\n",
       "    <tr>\n",
       "      <th>42</th>\n",
       "      <td>42</td>\n",
       "      <td>240</td>\n",
       "      <td>End no passing veh &gt; 3.5 tons (42)</td>\n",
       "    </tr>\n",
       "    <tr>\n",
       "      <th>32</th>\n",
       "      <td>32</td>\n",
       "      <td>240</td>\n",
       "      <td>End speed + passing limits (32)</td>\n",
       "    </tr>\n",
       "    <tr>\n",
       "      <th>27</th>\n",
       "      <td>27</td>\n",
       "      <td>240</td>\n",
       "      <td>Pedestrians (27)</td>\n",
       "    </tr>\n",
       "    <tr>\n",
       "      <th>37</th>\n",
       "      <td>37</td>\n",
       "      <td>210</td>\n",
       "      <td>Go straight or left (37)</td>\n",
       "    </tr>\n",
       "    <tr>\n",
       "      <th>19</th>\n",
       "      <td>19</td>\n",
       "      <td>210</td>\n",
       "      <td>Dangerous curve left (19)</td>\n",
       "    </tr>\n",
       "    <tr>\n",
       "      <th>0</th>\n",
       "      <td>0</td>\n",
       "      <td>210</td>\n",
       "      <td>Speed limit (20km/h) (0)</td>\n",
       "    </tr>\n",
       "  </tbody>\n",
       "</table>\n",
       "</div>"
      ],
      "text/plain": [
       "    label  count                          label_name\n",
       "2       2   2250            Speed limit (50km/h) (2)\n",
       "1       1   2220            Speed limit (30km/h) (1)\n",
       "13     13   2160                          Yield (13)\n",
       "12     12   2100                  Priority road (12)\n",
       "38     38   2070                     Keep right (38)\n",
       "10     10   2010   No passing veh over 3.5 tons (10)\n",
       "4       4   1980            Speed limit (70km/h) (4)\n",
       "5       5   1860            Speed limit (80km/h) (5)\n",
       "25     25   1500                      Road work (25)\n",
       "9       9   1470                      No passing (9)\n",
       "7       7   1440           Speed limit (100km/h) (7)\n",
       "3       3   1410            Speed limit (60km/h) (3)\n",
       "8       8   1410           Speed limit (120km/h) (8)\n",
       "11     11   1320   Right-of-way at intersection (11)\n",
       "35     35   1200                     Ahead only (35)\n",
       "18     18   1200                General caution (18)\n",
       "17     17   1110                       No entry (17)\n",
       "31     31    780          Wild animals crossing (31)\n",
       "14     14    780                           Stop (14)\n",
       "33     33    689               Turn right ahead (33)\n",
       "15     15    630                    No vehicles (15)\n",
       "26     26    600                Traffic signals (26)\n",
       "28     28    540              Children crossing (28)\n",
       "23     23    510                  Slippery road (23)\n",
       "30     30    450             Beware of ice/snow (30)\n",
       "16     16    420      Veh > 3.5 tons prohibited (16)\n",
       "34     34    420                Turn left ahead (34)\n",
       "6       6    420     End of speed limit (80km/h) (6)\n",
       "36     36    390           Go straight or right (36)\n",
       "22     22    390                     Bumpy road (22)\n",
       "40     40    360           Roundabout mandatory (40)\n",
       "20     20    360          Dangerous curve right (20)\n",
       "21     21    330                   Double curve (21)\n",
       "39     39    300                      Keep left (39)\n",
       "29     29    270              Bicycles crossing (29)\n",
       "24     24    270      Road narrows on the right (24)\n",
       "41     41    240              End of no passing (41)\n",
       "42     42    240  End no passing veh > 3.5 tons (42)\n",
       "32     32    240     End speed + passing limits (32)\n",
       "27     27    240                    Pedestrians (27)\n",
       "37     37    210            Go straight or left (37)\n",
       "19     19    210           Dangerous curve left (19)\n",
       "0       0    210            Speed limit (20km/h) (0)"
      ]
     },
     "execution_count": 129,
     "metadata": {},
     "output_type": "execute_result"
    }
   ],
   "source": [
    "dist"
   ]
  },
  {
   "cell_type": "markdown",
   "id": "18918112",
   "metadata": {},
   "source": [
    "We can clearly see by this that this dataset is extremely skewed. There are 2250 images for the **Speed limit (50km/h)** and only 210 images for the **Speed limit (20km/h)** class.\n",
    "\n",
    "This would make any model we make into being biased or perform better the classes with more training images. To address this we can create more data by rotating, transforming and resizing the images.\n",
    "\n",
    "Before this however we need to split the data into Test/Train/Validation datasets."
   ]
  },
  {
   "cell_type": "markdown",
   "id": "bef6ade2",
   "metadata": {},
   "source": [
    "# 🖖 Splitting the Data\n",
    "\n",
    "For training, testing and validation purposes, we must split the data into datasets that retain the ratios of images available."
   ]
  },
  {
   "cell_type": "code",
   "execution_count": 130,
   "id": "0bbcf8f4",
   "metadata": {},
   "outputs": [],
   "source": [
    "X_train, X_test, y_train, y_test = train_test_split(X, y, test_size=0.2, random_state=42, shuffle=True)\n",
    "X_train, X_val, y_train, y_val = train_test_split(X_train, y_train, test_size=0.1, random_state=42, shuffle=True)"
   ]
  },
  {
   "cell_type": "code",
   "execution_count": 131,
   "id": "26f735c2",
   "metadata": {},
   "outputs": [
    {
     "name": "stdout",
     "output_type": "stream",
     "text": [
      "Train dataset shape: (28230, 40, 40, 3)\n",
      "Validation dataset shape: (3137, 40, 40, 3)\n",
      "Test dataset shape: (7842, 40, 40, 3)\n"
     ]
    }
   ],
   "source": [
    "# See shape of the train and test datasets\n",
    "print(f\"Train dataset shape: {X_train.shape}\")\n",
    "print(f\"Validation dataset shape: {X_val.shape}\")\n",
    "print(f\"Test dataset shape: {X_test.shape}\")"
   ]
  },
  {
   "cell_type": "markdown",
   "id": "d6812b02",
   "metadata": {},
   "source": [
    "In order to sanity check if the training and validation sets have enough images for the classes with the least samples."
   ]
  },
  {
   "cell_type": "code",
   "execution_count": 132,
   "id": "7d534f23",
   "metadata": {},
   "outputs": [
    {
     "name": "stdout",
     "output_type": "stream",
     "text": [
      "\u001b[1mTraining least samples:\u001b[0m\n",
      "    label  count                          label_name\n",
      "39     39    220                      Keep left (39)\n",
      "24     24    195      Road narrows on the right (24)\n",
      "29     29    193              Bicycles crossing (29)\n",
      "42     42    183  End no passing veh > 3.5 tons (42)\n",
      "32     32    183     End speed + passing limits (32)\n",
      "41     41    182              End of no passing (41)\n",
      "27     27    180                    Pedestrians (27)\n",
      "0       0    158            Speed limit (20km/h) (0)\n",
      "37     37    154            Go straight or left (37)\n",
      "19     19    154           Dangerous curve left (19)\n",
      "\u001b[1m\n",
      "Validation least samples:\u001b[0m\n",
      "    label  count                          label_name\n",
      "39     39     22                      Keep left (39)\n",
      "29     29     18              Bicycles crossing (29)\n",
      "42     42     16  End no passing veh > 3.5 tons (42)\n",
      "32     32     16     End speed + passing limits (32)\n",
      "24     24     16      Road narrows on the right (24)\n",
      "0       0     14            Speed limit (20km/h) (0)\n",
      "27     27     13                    Pedestrians (27)\n",
      "19     19     13           Dangerous curve left (19)\n",
      "41     41     11              End of no passing (41)\n",
      "37     37      9            Go straight or left (37)\n"
     ]
    }
   ],
   "source": [
    "# Plotting the distribution of the training data\n",
    "train_dist = pd.DataFrame({\"label\":np.unique(y_train),\"count\":np.bincount(y_train)})\n",
    "train_dist[\"label_name\"] = train_dist[\"label\"].apply(format_label)\n",
    "train_dist = train_dist.sort_values(\"count\",ascending=False)\n",
    "\n",
    "# Plotting the distribution of the val data\n",
    "val_dist = pd.DataFrame({\"label\":np.unique(y_val),\"count\":np.bincount(y_val)})\n",
    "val_dist[\"label_name\"] = val_dist[\"label\"].apply(format_label)\n",
    "val_dist = val_dist.sort_values(\"count\",ascending=False)\n",
    "\n",
    "print(colour.BOLD+\"Training least samples:\"+colour.END)\n",
    "print(train_dist[-10:])\n",
    "print(colour.BOLD+\"\\nValidation least samples:\"+colour.END)\n",
    "print(val_dist[-10:])"
   ]
  },
  {
   "cell_type": "markdown",
   "id": "ed019349",
   "metadata": {},
   "source": [
    "The lowest amount of samples in the training dataset is 154 which is low compared to the 2000 high but with data augmentation we can tackle this. The validation dataset only has 9 images for class 37 which is low but I can live with it."
   ]
  },
  {
   "cell_type": "markdown",
   "id": "1d958f8e",
   "metadata": {},
   "source": [
    "# 🤖 Data Augmentation"
   ]
  },
  {
   "cell_type": "markdown",
   "id": "b1880250",
   "metadata": {},
   "source": [
    "Biggest issue with this dataset is the skewedness of the images available for each class. If used for training, this would lead to some classes being predicted with higher accuracy than others. The model could also be skewed towards these samples.\n",
    "\n",
    "To combat this we can generate some more data by rotating, shifting, shearing and zooming. For this example I have chosen a rotation of 20 degrees (as roadsigns wouldnt rotate that much irl, also any more would mess up arrow directions) and shift of 10% together with a \"reflect\" mode which fills in the area of the image with a reflecting image.\n",
    "\n",
    "Doing this will prevent overfitting and allow the network to generalise better."
   ]
  },
  {
   "cell_type": "code",
   "execution_count": 133,
   "id": "d840a214",
   "metadata": {
    "scrolled": false
   },
   "outputs": [
    {
     "data": {
      "image/png": "[encoded data removed]",
      "text/plain": [
       "<Figure size 1296x144 with 10 Axes>"
      ]
     },
     "metadata": {},
     "output_type": "display_data"
    }
   ],
   "source": [
    "datagen = ImageDataGenerator(\n",
    "    rotation_range=20, # Rotate randomly from 0 to 20 (not too far)\n",
    "    height_shift_range=0.1,\n",
    "    width_shift_range=0.1,\n",
    "    horizontal_flip=False,\n",
    "    fill_mode=\"reflect\")\n",
    "\n",
    "# Fits data to allow for augmentation with the flow method\n",
    "datagen.fit(X_train)\n",
    "\n",
    "# Visualise a sample of the augmented images\n",
    "fig, ax = plt.subplots(1,10,figsize=(18,2))\n",
    "fig.suptitle(\"Sample of augmented images\")\n",
    "\n",
    "# Visualise the transformations on the images. (seed set to prevent changing results.)\n",
    "for X_batch, y_batch in datagen.flow(X_train, y_train,shuffle=False):    \n",
    "    for i in range(0, 10):\n",
    "        ax[i].imshow(X_batch[i].astype(int))\n",
    "        ax[i].set_xlabel(label_name[y_batch[i]],rotation=8)\n",
    "        ax[i].set_xticks([])\n",
    "        ax[i].set_yticks([])\n",
    "    # break out of the loop before it goes on...\n",
    "    break"
   ]
  },
  {
   "cell_type": "code",
   "execution_count": 134,
   "id": "b6eb1257",
   "metadata": {
    "scrolled": false
   },
   "outputs": [
    {
     "name": "stdout",
     "output_type": "stream",
     "text": [
      "1/43 Generating data for class: Speed limit (20km/h)\n"
     ]
    },
    {
     "name": "stderr",
     "output_type": "stream",
     "text": [
      "100%|█████████████████████████████████████| 2000/2000 [00:01<00:00, 1453.30it/s]\n"
     ]
    },
    {
     "name": "stdout",
     "output_type": "stream",
     "text": [
      "2/43 Generating data for class: Speed limit (30km/h)\n"
     ]
    },
    {
     "name": "stderr",
     "output_type": "stream",
     "text": [
      "100%|█████████████████████████████████████| 2000/2000 [00:01<00:00, 1454.77it/s]\n"
     ]
    },
    {
     "name": "stdout",
     "output_type": "stream",
     "text": [
      "3/43 Generating data for class: Speed limit (50km/h)\n"
     ]
    },
    {
     "name": "stderr",
     "output_type": "stream",
     "text": [
      "100%|█████████████████████████████████████| 2000/2000 [00:01<00:00, 1462.46it/s]\n"
     ]
    },
    {
     "name": "stdout",
     "output_type": "stream",
     "text": [
      "4/43 Generating data for class: Speed limit (60km/h)\n"
     ]
    },
    {
     "name": "stderr",
     "output_type": "stream",
     "text": [
      "100%|█████████████████████████████████████| 2000/2000 [00:01<00:00, 1517.38it/s]\n"
     ]
    },
    {
     "name": "stdout",
     "output_type": "stream",
     "text": [
      "5/43 Generating data for class: Speed limit (70km/h)\n"
     ]
    },
    {
     "name": "stderr",
     "output_type": "stream",
     "text": [
      "100%|█████████████████████████████████████| 2000/2000 [00:01<00:00, 1423.20it/s]\n"
     ]
    },
    {
     "name": "stdout",
     "output_type": "stream",
     "text": [
      "6/43 Generating data for class: Speed limit (80km/h)\n"
     ]
    },
    {
     "name": "stderr",
     "output_type": "stream",
     "text": [
      "100%|█████████████████████████████████████| 2000/2000 [00:01<00:00, 1344.41it/s]\n"
     ]
    },
    {
     "name": "stdout",
     "output_type": "stream",
     "text": [
      "7/43 Generating data for class: End of speed limit (80km/h)\n"
     ]
    },
    {
     "name": "stderr",
     "output_type": "stream",
     "text": [
      "100%|█████████████████████████████████████| 2000/2000 [00:01<00:00, 1525.46it/s]\n"
     ]
    },
    {
     "name": "stdout",
     "output_type": "stream",
     "text": [
      "8/43 Generating data for class: Speed limit (100km/h)\n"
     ]
    },
    {
     "name": "stderr",
     "output_type": "stream",
     "text": [
      "100%|█████████████████████████████████████| 2000/2000 [00:01<00:00, 1420.92it/s]\n"
     ]
    },
    {
     "name": "stdout",
     "output_type": "stream",
     "text": [
      "9/43 Generating data for class: Speed limit (120km/h)\n"
     ]
    },
    {
     "name": "stderr",
     "output_type": "stream",
     "text": [
      "100%|█████████████████████████████████████| 2000/2000 [00:01<00:00, 1464.97it/s]\n"
     ]
    },
    {
     "name": "stdout",
     "output_type": "stream",
     "text": [
      "10/43 Generating data for class: No passing\n"
     ]
    },
    {
     "name": "stderr",
     "output_type": "stream",
     "text": [
      "100%|█████████████████████████████████████| 2000/2000 [00:01<00:00, 1422.20it/s]\n"
     ]
    },
    {
     "name": "stdout",
     "output_type": "stream",
     "text": [
      "11/43 Generating data for class: No passing veh over 3.5 tons\n"
     ]
    },
    {
     "name": "stderr",
     "output_type": "stream",
     "text": [
      "100%|█████████████████████████████████████| 2000/2000 [00:01<00:00, 1209.30it/s]\n"
     ]
    },
    {
     "name": "stdout",
     "output_type": "stream",
     "text": [
      "12/43 Generating data for class: Right-of-way at intersection\n"
     ]
    },
    {
     "name": "stderr",
     "output_type": "stream",
     "text": [
      "100%|█████████████████████████████████████| 2000/2000 [00:01<00:00, 1501.69it/s]\n"
     ]
    },
    {
     "name": "stdout",
     "output_type": "stream",
     "text": [
      "13/43 Generating data for class: Priority road\n"
     ]
    },
    {
     "name": "stderr",
     "output_type": "stream",
     "text": [
      "100%|█████████████████████████████████████| 2000/2000 [00:01<00:00, 1406.64it/s]\n"
     ]
    },
    {
     "name": "stdout",
     "output_type": "stream",
     "text": [
      "14/43 Generating data for class: Yield\n"
     ]
    },
    {
     "name": "stderr",
     "output_type": "stream",
     "text": [
      "100%|█████████████████████████████████████| 2000/2000 [00:01<00:00, 1100.08it/s]\n"
     ]
    },
    {
     "name": "stdout",
     "output_type": "stream",
     "text": [
      "15/43 Generating data for class: Stop\n"
     ]
    },
    {
     "name": "stderr",
     "output_type": "stream",
     "text": [
      "100%|█████████████████████████████████████| 2000/2000 [00:01<00:00, 1153.36it/s]\n"
     ]
    },
    {
     "name": "stdout",
     "output_type": "stream",
     "text": [
      "16/43 Generating data for class: No vehicles\n"
     ]
    },
    {
     "name": "stderr",
     "output_type": "stream",
     "text": [
      "100%|█████████████████████████████████████| 2000/2000 [00:01<00:00, 1631.60it/s]\n"
     ]
    },
    {
     "name": "stdout",
     "output_type": "stream",
     "text": [
      "17/43 Generating data for class: Veh > 3.5 tons prohibited\n"
     ]
    },
    {
     "name": "stderr",
     "output_type": "stream",
     "text": [
      "100%|█████████████████████████████████████| 2000/2000 [00:01<00:00, 1694.55it/s]\n"
     ]
    },
    {
     "name": "stdout",
     "output_type": "stream",
     "text": [
      "18/43 Generating data for class: No entry\n"
     ]
    },
    {
     "name": "stderr",
     "output_type": "stream",
     "text": [
      "100%|█████████████████████████████████████| 2000/2000 [00:01<00:00, 1416.00it/s]\n"
     ]
    },
    {
     "name": "stdout",
     "output_type": "stream",
     "text": [
      "19/43 Generating data for class: General caution\n"
     ]
    },
    {
     "name": "stderr",
     "output_type": "stream",
     "text": [
      "100%|█████████████████████████████████████| 2000/2000 [00:01<00:00, 1548.78it/s]\n"
     ]
    },
    {
     "name": "stdout",
     "output_type": "stream",
     "text": [
      "20/43 Generating data for class: Dangerous curve left\n"
     ]
    },
    {
     "name": "stderr",
     "output_type": "stream",
     "text": [
      "100%|█████████████████████████████████████| 2000/2000 [00:01<00:00, 1661.32it/s]\n"
     ]
    },
    {
     "name": "stdout",
     "output_type": "stream",
     "text": [
      "21/43 Generating data for class: Dangerous curve right\n"
     ]
    },
    {
     "name": "stderr",
     "output_type": "stream",
     "text": [
      "100%|█████████████████████████████████████| 2000/2000 [00:01<00:00, 1575.24it/s]\n"
     ]
    },
    {
     "name": "stdout",
     "output_type": "stream",
     "text": [
      "22/43 Generating data for class: Double curve\n"
     ]
    },
    {
     "name": "stderr",
     "output_type": "stream",
     "text": [
      "100%|█████████████████████████████████████| 2000/2000 [00:01<00:00, 1139.03it/s]\n"
     ]
    },
    {
     "name": "stdout",
     "output_type": "stream",
     "text": [
      "23/43 Generating data for class: Bumpy road\n"
     ]
    },
    {
     "name": "stderr",
     "output_type": "stream",
     "text": [
      "100%|█████████████████████████████████████| 2000/2000 [00:01<00:00, 1717.68it/s]\n"
     ]
    },
    {
     "name": "stdout",
     "output_type": "stream",
     "text": [
      "24/43 Generating data for class: Slippery road\n"
     ]
    },
    {
     "name": "stderr",
     "output_type": "stream",
     "text": [
      "100%|█████████████████████████████████████| 2000/2000 [00:01<00:00, 1672.29it/s]\n"
     ]
    },
    {
     "name": "stdout",
     "output_type": "stream",
     "text": [
      "25/43 Generating data for class: Road narrows on the right\n"
     ]
    },
    {
     "name": "stderr",
     "output_type": "stream",
     "text": [
      "100%|█████████████████████████████████████| 2000/2000 [00:01<00:00, 1409.86it/s]\n"
     ]
    },
    {
     "name": "stdout",
     "output_type": "stream",
     "text": [
      "26/43 Generating data for class: Road work\n"
     ]
    },
    {
     "name": "stderr",
     "output_type": "stream",
     "text": [
      "100%|█████████████████████████████████████| 2000/2000 [00:01<00:00, 1517.66it/s]\n"
     ]
    },
    {
     "name": "stdout",
     "output_type": "stream",
     "text": [
      "27/43 Generating data for class: Traffic signals\n"
     ]
    },
    {
     "name": "stderr",
     "output_type": "stream",
     "text": [
      "100%|█████████████████████████████████████| 2000/2000 [00:01<00:00, 1649.26it/s]\n"
     ]
    },
    {
     "name": "stdout",
     "output_type": "stream",
     "text": [
      "28/43 Generating data for class: Pedestrians\n"
     ]
    },
    {
     "name": "stderr",
     "output_type": "stream",
     "text": [
      "100%|█████████████████████████████████████| 2000/2000 [00:01<00:00, 1279.40it/s]\n"
     ]
    },
    {
     "name": "stdout",
     "output_type": "stream",
     "text": [
      "29/43 Generating data for class: Children crossing\n"
     ]
    },
    {
     "name": "stderr",
     "output_type": "stream",
     "text": [
      "100%|█████████████████████████████████████| 2000/2000 [00:01<00:00, 1369.79it/s]\n"
     ]
    },
    {
     "name": "stdout",
     "output_type": "stream",
     "text": [
      "30/43 Generating data for class: Bicycles crossing\n"
     ]
    },
    {
     "name": "stderr",
     "output_type": "stream",
     "text": [
      "100%|█████████████████████████████████████| 2000/2000 [00:01<00:00, 1538.48it/s]\n"
     ]
    },
    {
     "name": "stdout",
     "output_type": "stream",
     "text": [
      "31/43 Generating data for class: Beware of ice/snow\n"
     ]
    },
    {
     "name": "stderr",
     "output_type": "stream",
     "text": [
      "100%|█████████████████████████████████████| 2000/2000 [00:01<00:00, 1042.21it/s]\n"
     ]
    },
    {
     "name": "stdout",
     "output_type": "stream",
     "text": [
      "32/43 Generating data for class: Wild animals crossing\n"
     ]
    },
    {
     "name": "stderr",
     "output_type": "stream",
     "text": [
      "100%|█████████████████████████████████████| 2000/2000 [00:01<00:00, 1302.42it/s]\n"
     ]
    },
    {
     "name": "stdout",
     "output_type": "stream",
     "text": [
      "33/43 Generating data for class: End speed + passing limits\n"
     ]
    },
    {
     "name": "stderr",
     "output_type": "stream",
     "text": [
      "100%|█████████████████████████████████████| 2000/2000 [00:01<00:00, 1208.77it/s]\n"
     ]
    },
    {
     "name": "stdout",
     "output_type": "stream",
     "text": [
      "34/43 Generating data for class: Turn right ahead\n"
     ]
    },
    {
     "name": "stderr",
     "output_type": "stream",
     "text": [
      "100%|█████████████████████████████████████| 2000/2000 [00:01<00:00, 1262.53it/s]\n"
     ]
    },
    {
     "name": "stdout",
     "output_type": "stream",
     "text": [
      "35/43 Generating data for class: Turn left ahead\n"
     ]
    },
    {
     "name": "stderr",
     "output_type": "stream",
     "text": [
      "100%|█████████████████████████████████████| 2000/2000 [00:01<00:00, 1128.92it/s]\n"
     ]
    },
    {
     "name": "stdout",
     "output_type": "stream",
     "text": [
      "36/43 Generating data for class: Ahead only\n"
     ]
    },
    {
     "name": "stderr",
     "output_type": "stream",
     "text": [
      "100%|█████████████████████████████████████| 2000/2000 [00:01<00:00, 1268.78it/s]\n"
     ]
    },
    {
     "name": "stdout",
     "output_type": "stream",
     "text": [
      "37/43 Generating data for class: Go straight or right\n"
     ]
    },
    {
     "name": "stderr",
     "output_type": "stream",
     "text": [
      "100%|█████████████████████████████████████| 2000/2000 [00:01<00:00, 1507.00it/s]\n"
     ]
    },
    {
     "name": "stdout",
     "output_type": "stream",
     "text": [
      "38/43 Generating data for class: Go straight or left\n"
     ]
    },
    {
     "name": "stderr",
     "output_type": "stream",
     "text": [
      "100%|█████████████████████████████████████| 2000/2000 [00:01<00:00, 1516.48it/s]\n"
     ]
    },
    {
     "name": "stdout",
     "output_type": "stream",
     "text": [
      "39/43 Generating data for class: Keep right\n"
     ]
    },
    {
     "name": "stderr",
     "output_type": "stream",
     "text": [
      "100%|█████████████████████████████████████| 2000/2000 [00:01<00:00, 1422.80it/s]\n"
     ]
    },
    {
     "name": "stdout",
     "output_type": "stream",
     "text": [
      "40/43 Generating data for class: Keep left\n"
     ]
    },
    {
     "name": "stderr",
     "output_type": "stream",
     "text": [
      "100%|█████████████████████████████████████| 2000/2000 [00:01<00:00, 1640.58it/s]\n"
     ]
    },
    {
     "name": "stdout",
     "output_type": "stream",
     "text": [
      "41/43 Generating data for class: Roundabout mandatory\n"
     ]
    },
    {
     "name": "stderr",
     "output_type": "stream",
     "text": [
      "100%|█████████████████████████████████████| 2000/2000 [00:01<00:00, 1159.54it/s]\n"
     ]
    },
    {
     "name": "stdout",
     "output_type": "stream",
     "text": [
      "42/43 Generating data for class: End of no passing\n"
     ]
    },
    {
     "name": "stderr",
     "output_type": "stream",
     "text": [
      "100%|█████████████████████████████████████| 2000/2000 [00:01<00:00, 1405.09it/s]\n"
     ]
    },
    {
     "name": "stdout",
     "output_type": "stream",
     "text": [
      "43/43 Generating data for class: End no passing veh > 3.5 tons\n"
     ]
    },
    {
     "name": "stderr",
     "output_type": "stream",
     "text": [
      "100%|█████████████████████████████████████| 2000/2000 [00:01<00:00, 1398.79it/s]\n"
     ]
    }
   ],
   "source": [
    "AUG_COUNT = 2000\n",
    "BATCH_SIZE = 32\n",
    "\n",
    "# I will save the augmented with equal amounts of\n",
    "# image classes in numpy arrays\n",
    "# Usually you wouldnt waste memory like this but I\n",
    "# want to compare the accuracy of model with and without augmentation.\n",
    "X_train_aug = []\n",
    "y_train_aug = []\n",
    "\n",
    "# Iterate over each class and \n",
    "# generate AUG_COUNT augmented images\n",
    "for class_ in range(CLASSES):\n",
    "    print(f\"{class_+1}/{CLASSES} Generating data for class: {label_name[class_]}\")\n",
    "    indices = [i for i, x in enumerate(y_train) if x == class_]  # Get indexes of all instances of that class\n",
    "    \n",
    "    for i in tqdm(range(AUG_COUNT)):\n",
    "        img_to_transform = X_train[choice(indices)]\n",
    "        transformed_img = datagen.random_transform(img_to_transform)\n",
    "        \n",
    "        X_train_aug.append(transformed_img)\n",
    "        y_train_aug.append(class_)\n",
    "\n",
    "X_train_aug = np.array(X_train_aug)\n",
    "y_train_aug = np.array(y_train_aug)\n",
    "\n",
    "# THIS IS AN ALTERNATIVE METHOD HOWEVER IT PERFORMED BADLY    \n",
    "\n",
    "# This for loop should create a balanced dataset (inefficient af but fix for another time)\n",
    "# for X_batch, y_batch in datagen.flow(X_train, y_train,seed=42,batch_size=BATCH_SIZE):\n",
    "#     for i in range(BATCH_SIZE):\n",
    "#         class_count = train_dist_sorted.at[y_batch[i],\"aug_count\"]\n",
    "#         if class_count != AUG_COUNT:\n",
    "#             X_train_aug.append(X_batch[i])\n",
    "#             y_train_aug.append(y_batch[i])\n",
    "#             train_dist_sorted.at[y_batch[i],\"aug_count\"] = class_count + 1\n",
    "#         else:\n",
    "#             print(f\"Class: {label_name[y_batch[i]]} is filled to {AUG_COUNT}!\")"
   ]
  },
  {
   "cell_type": "code",
   "execution_count": 135,
   "id": "d853ce10",
   "metadata": {
    "scrolled": false
   },
   "outputs": [
    {
     "data": {
      "text/html": [
       "<div>\n",
       "<style scoped>\n",
       "    .dataframe tbody tr th:only-of-type {\n",
       "        vertical-align: middle;\n",
       "    }\n",
       "\n",
       "    .dataframe tbody tr th {\n",
       "        vertical-align: top;\n",
       "    }\n",
       "\n",
       "    .dataframe thead th {\n",
       "        text-align: right;\n",
       "    }\n",
       "</style>\n",
       "<table border=\"1\" class=\"dataframe\">\n",
       "  <thead>\n",
       "    <tr style=\"text-align: right;\">\n",
       "      <th></th>\n",
       "      <th>label</th>\n",
       "      <th>count</th>\n",
       "      <th>label_name</th>\n",
       "    </tr>\n",
       "  </thead>\n",
       "  <tbody>\n",
       "    <tr>\n",
       "      <th>0</th>\n",
       "      <td>0</td>\n",
       "      <td>2000</td>\n",
       "      <td>Speed limit (20km/h) (0)</td>\n",
       "    </tr>\n",
       "    <tr>\n",
       "      <th>32</th>\n",
       "      <td>32</td>\n",
       "      <td>2000</td>\n",
       "      <td>End speed + passing limits (32)</td>\n",
       "    </tr>\n",
       "    <tr>\n",
       "      <th>24</th>\n",
       "      <td>24</td>\n",
       "      <td>2000</td>\n",
       "      <td>Road narrows on the right (24)</td>\n",
       "    </tr>\n",
       "    <tr>\n",
       "      <th>25</th>\n",
       "      <td>25</td>\n",
       "      <td>2000</td>\n",
       "      <td>Road work (25)</td>\n",
       "    </tr>\n",
       "    <tr>\n",
       "      <th>26</th>\n",
       "      <td>26</td>\n",
       "      <td>2000</td>\n",
       "      <td>Traffic signals (26)</td>\n",
       "    </tr>\n",
       "  </tbody>\n",
       "</table>\n",
       "</div>"
      ],
      "text/plain": [
       "    label  count                       label_name\n",
       "0       0   2000         Speed limit (20km/h) (0)\n",
       "32     32   2000  End speed + passing limits (32)\n",
       "24     24   2000   Road narrows on the right (24)\n",
       "25     25   2000                   Road work (25)\n",
       "26     26   2000             Traffic signals (26)"
      ]
     },
     "execution_count": 135,
     "metadata": {},
     "output_type": "execute_result"
    }
   ],
   "source": [
    "# Get the class distribution of the train augmented dataset\n",
    "train_aug_dist = pd.DataFrame({\"label\":np.unique(y_train_aug),\"count\":np.bincount(y_train_aug)})\n",
    "train_aug_dist[\"label_name\"] = train_aug_dist[\"label\"].apply(format_label)\n",
    "train_aug_dist = train_aug_dist.sort_values(\"count\",ascending=False)\n",
    "\n",
    "train_aug_dist.head()"
   ]
  },
  {
   "cell_type": "code",
   "execution_count": 136,
   "id": "76be311b",
   "metadata": {},
   "outputs": [
    {
     "name": "stdout",
     "output_type": "stream",
     "text": [
      "Shape of the Augmented X: (86000, 40, 40, 3)\n",
      "Shape of the Augmented y: (86000,)\n"
     ]
    },
    {
     "data": {
      "image/png": "[encoded data removed]",
      "text/plain": [
       "<Figure size 1440x576 with 1 Axes>"
      ]
     },
     "metadata": {
      "needs_background": "light"
     },
     "output_type": "display_data"
    }
   ],
   "source": [
    "# Plot Training vs Augmented Training Datsets\n",
    "#\n",
    "# train_dist - before augmentation\n",
    "# train_aug_dist - after augmentation\n",
    "#\n",
    "\n",
    "x = np.arange(len(train_dist[\"label\"])) # the label locations\n",
    "labels = list(label_name.values())\n",
    "width = 0.35  # the width of the bars\n",
    "\n",
    "fig, ax = plt.subplots(figsize=(20,8))\n",
    "\n",
    "train_aug = ax.bar(x + width/2, train_aug_dist[\"count\"], width, label='Augmented Training')\n",
    "train = ax.bar(x - width/2, train_dist[\"count\"], width, label='Training')\n",
    "\n",
    "ax.set_xticks(x,labels,rotation=90)\n",
    "ax.set_ylabel('no. of images')\n",
    "ax.set_title('Distribution of classes')\n",
    "\n",
    "ax.legend()\n",
    "print(f\"Shape of the Augmented X: {X_train_aug.shape}\")\n",
    "print(f\"Shape of the Augmented y: {y_train_aug.shape}\")"
   ]
  },
  {
   "cell_type": "markdown",
   "id": "55a15e47",
   "metadata": {},
   "source": [
    "Here FINALLY we can see that all of the classes have the same amount of images. Our data is ready for our model!!!!\n",
    "\n",
    "#### To recap, our data is:\n",
    "1. Downloaded\n",
    "2. Resized to 30x30x3\n",
    "3. Split to Test,Train,Validate\n",
    "4. Train dataset has been augmented to equalise classes\n"
   ]
  },
  {
   "cell_type": "markdown",
   "id": "c64a1f8a",
   "metadata": {},
   "source": [
    "# 🏗️ Model Construction \n",
    "\n",
    "I mentioned that "
   ]
  },
  {
   "cell_type": "code",
   "execution_count": 137,
   "id": "504b4ad7",
   "metadata": {},
   "outputs": [],
   "source": [
    "model = keras.models.Sequential([    \n",
    "    keras.layers.Conv2D(filters=16, kernel_size=(3,3), activation='relu', input_shape=(IMG_HEIGHT,IMG_WIDTH,CHANNELS)),\n",
    "    keras.layers.Conv2D(filters=32, kernel_size=(3,3), activation='relu'),\n",
    "    keras.layers.MaxPool2D(pool_size=(2, 2)),\n",
    "    keras.layers.BatchNormalization(axis=-1),\n",
    "    \n",
    "    keras.layers.Conv2D(filters=64, kernel_size=(3,3), activation='relu'),\n",
    "    keras.layers.Conv2D(filters=128, kernel_size=(3,3), activation='relu'),\n",
    "    keras.layers.MaxPool2D(pool_size=(2, 2)),\n",
    "    keras.layers.BatchNormalization(axis=-1),\n",
    "    \n",
    "    keras.layers.Flatten(),\n",
    "    keras.layers.Dense(512, activation='relu'),\n",
    "    keras.layers.BatchNormalization(),\n",
    "    keras.layers.Dropout(rate=0.5),\n",
    "    \n",
    "    keras.layers.Dense(43, activation='softmax')\n",
    "])\n",
    "# model = keras.Sequential([\n",
    "#     # Convolution\n",
    "#     keras.layers.Conv2D(filters=32,kernel_size=3,activation='relu',input_shape=(IMG_HEIGHT,IMG_WIDTH,CHANNELS)),\n",
    "#     keras.layers.MaxPooling2D(pool_size=2) ,\n",
    "#     keras.layers.Dropout(0.2),\n",
    "    \n",
    "#     #Neural Network\n",
    "#     keras.layers.Flatten(),\n",
    "#     keras.layers.Dense(32,activation='relu'),\n",
    "#     keras.layers.Dense(43,activation = 'softmax')\n",
    "    \n",
    "# ])"
   ]
  },
  {
   "cell_type": "code",
   "execution_count": 138,
   "id": "145166a3",
   "metadata": {},
   "outputs": [
    {
     "name": "stdout",
     "output_type": "stream",
     "text": [
      "(28230, 40, 40, 3)\n",
      "(28230,)\n"
     ]
    }
   ],
   "source": [
    "model.compile(loss='sparse_categorical_crossentropy', optimizer=\"adam\", metrics=['accuracy'])\n",
    "print(X_train.shape)\n",
    "print(y_train.shape)"
   ]
  },
  {
   "cell_type": "code",
   "execution_count": 139,
   "id": "f00a61d5",
   "metadata": {},
   "outputs": [],
   "source": [
    "epochs = 20\n",
    "#model.fit(X_train, y_train, batch_size=32, epochs=epochs)"
   ]
  },
  {
   "cell_type": "code",
   "execution_count": 140,
   "id": "4fecf44c",
   "metadata": {},
   "outputs": [],
   "source": [
    "#model.evaluate(X_test,y_test)"
   ]
  },
  {
   "cell_type": "code",
   "execution_count": 141,
   "id": "8d5fec9c",
   "metadata": {},
   "outputs": [],
   "source": [
    "#plot_sign(X_test,y_test,10)"
   ]
  },
  {
   "cell_type": "code",
   "execution_count": 142,
   "id": "3900d633",
   "metadata": {},
   "outputs": [],
   "source": [
    "# predictions = model.predict(X_test)\n",
    "# predictions = np.argmax(predictions,axis=1)"
   ]
  },
  {
   "cell_type": "code",
   "execution_count": 143,
   "id": "0e160958",
   "metadata": {},
   "outputs": [],
   "source": [
    "# # Pick a number\n",
    "# n = 100\n",
    "\n",
    "# # Plot and check if prediction matches\n",
    "# plot_sign(X_test,y_test,n)\n",
    "# print(colour.BOLD+f\"Model Predicted: {label_name[predictions[n]]}\"+colour.END)"
   ]
  },
  {
   "cell_type": "code",
   "execution_count": 144,
   "id": "e6d2f997",
   "metadata": {},
   "outputs": [],
   "source": [
    "# cm_mat = np.array(confusion_matrix(y_test,predictions)).astype(int)\n",
    "\n",
    "# cm_df = pd.DataFrame(cm_mat, index = [i for i in labels],\n",
    "#                   columns = [i for i in labels])\n",
    "# plt.figure(figsize = (15,15))\n",
    "# sns.heatmap(cm_df, annot=True)"
   ]
  },
  {
   "cell_type": "code",
   "execution_count": 146,
   "id": "9f5e7e4b",
   "metadata": {},
   "outputs": [
    {
     "name": "stdout",
     "output_type": "stream",
     "text": [
      "Epoch 1/5\n",
      "2625/2688 [============================>.] - ETA: 8s - loss: 0.3147 - accuracy: 0.9082"
     ]
    },
    {
     "ename": "KeyboardInterrupt",
     "evalue": "",
     "output_type": "error",
     "traceback": [
      "\u001b[0;31m---------------------------------------------------------------------------\u001b[0m",
      "\u001b[0;31mKeyboardInterrupt\u001b[0m                         Traceback (most recent call last)",
      "\u001b[0;32m/var/folders/h9/bpnxy0px6d5c95hv81ph7wkw0000gq/T/ipykernel_20236/3700616969.py\u001b[0m in \u001b[0;36m<module>\u001b[0;34m\u001b[0m\n\u001b[0;32m----> 1\u001b[0;31m \u001b[0mmodel\u001b[0m\u001b[0;34m.\u001b[0m\u001b[0mfit\u001b[0m\u001b[0;34m(\u001b[0m\u001b[0mX_train_aug\u001b[0m\u001b[0;34m,\u001b[0m \u001b[0my_train_aug\u001b[0m\u001b[0;34m,\u001b[0m \u001b[0mbatch_size\u001b[0m\u001b[0;34m=\u001b[0m\u001b[0;36m32\u001b[0m\u001b[0;34m,\u001b[0m \u001b[0mepochs\u001b[0m\u001b[0;34m=\u001b[0m\u001b[0;36m5\u001b[0m\u001b[0;34m,\u001b[0m\u001b[0mvalidation_data\u001b[0m\u001b[0;34m=\u001b[0m\u001b[0;34m(\u001b[0m\u001b[0mX_val\u001b[0m\u001b[0;34m,\u001b[0m \u001b[0my_val\u001b[0m\u001b[0;34m)\u001b[0m\u001b[0;34m)\u001b[0m\u001b[0;34m\u001b[0m\u001b[0;34m\u001b[0m\u001b[0m\n\u001b[0m",
      "\u001b[0;32m/usr/local/lib/python3.9/site-packages/keras/utils/traceback_utils.py\u001b[0m in \u001b[0;36merror_handler\u001b[0;34m(*args, **kwargs)\u001b[0m\n\u001b[1;32m     62\u001b[0m     \u001b[0mfiltered_tb\u001b[0m \u001b[0;34m=\u001b[0m \u001b[0;32mNone\u001b[0m\u001b[0;34m\u001b[0m\u001b[0;34m\u001b[0m\u001b[0m\n\u001b[1;32m     63\u001b[0m     \u001b[0;32mtry\u001b[0m\u001b[0;34m:\u001b[0m\u001b[0;34m\u001b[0m\u001b[0;34m\u001b[0m\u001b[0m\n\u001b[0;32m---> 64\u001b[0;31m       \u001b[0;32mreturn\u001b[0m \u001b[0mfn\u001b[0m\u001b[0;34m(\u001b[0m\u001b[0;34m*\u001b[0m\u001b[0margs\u001b[0m\u001b[0;34m,\u001b[0m \u001b[0;34m**\u001b[0m\u001b[0mkwargs\u001b[0m\u001b[0;34m)\u001b[0m\u001b[0;34m\u001b[0m\u001b[0;34m\u001b[0m\u001b[0m\n\u001b[0m\u001b[1;32m     65\u001b[0m     \u001b[0;32mexcept\u001b[0m \u001b[0mException\u001b[0m \u001b[0;32mas\u001b[0m \u001b[0me\u001b[0m\u001b[0;34m:\u001b[0m  \u001b[0;31m# pylint: disable=broad-except\u001b[0m\u001b[0;34m\u001b[0m\u001b[0;34m\u001b[0m\u001b[0m\n\u001b[1;32m     66\u001b[0m       \u001b[0mfiltered_tb\u001b[0m \u001b[0;34m=\u001b[0m \u001b[0m_process_traceback_frames\u001b[0m\u001b[0;34m(\u001b[0m\u001b[0me\u001b[0m\u001b[0;34m.\u001b[0m\u001b[0m__traceback__\u001b[0m\u001b[0;34m)\u001b[0m\u001b[0;34m\u001b[0m\u001b[0;34m\u001b[0m\u001b[0m\n",
      "\u001b[0;32m/usr/local/lib/python3.9/site-packages/keras/engine/training.py\u001b[0m in \u001b[0;36mfit\u001b[0;34m(self, x, y, batch_size, epochs, verbose, callbacks, validation_split, validation_data, shuffle, class_weight, sample_weight, initial_epoch, steps_per_epoch, validation_steps, validation_batch_size, validation_freq, max_queue_size, workers, use_multiprocessing)\u001b[0m\n\u001b[1;32m   1382\u001b[0m                 _r=1):\n\u001b[1;32m   1383\u001b[0m               \u001b[0mcallbacks\u001b[0m\u001b[0;34m.\u001b[0m\u001b[0mon_train_batch_begin\u001b[0m\u001b[0;34m(\u001b[0m\u001b[0mstep\u001b[0m\u001b[0;34m)\u001b[0m\u001b[0;34m\u001b[0m\u001b[0;34m\u001b[0m\u001b[0m\n\u001b[0;32m-> 1384\u001b[0;31m               \u001b[0mtmp_logs\u001b[0m \u001b[0;34m=\u001b[0m \u001b[0mself\u001b[0m\u001b[0;34m.\u001b[0m\u001b[0mtrain_function\u001b[0m\u001b[0;34m(\u001b[0m\u001b[0miterator\u001b[0m\u001b[0;34m)\u001b[0m\u001b[0;34m\u001b[0m\u001b[0;34m\u001b[0m\u001b[0m\n\u001b[0m\u001b[1;32m   1385\u001b[0m               \u001b[0;32mif\u001b[0m \u001b[0mdata_handler\u001b[0m\u001b[0;34m.\u001b[0m\u001b[0mshould_sync\u001b[0m\u001b[0;34m:\u001b[0m\u001b[0;34m\u001b[0m\u001b[0;34m\u001b[0m\u001b[0m\n\u001b[1;32m   1386\u001b[0m                 \u001b[0mcontext\u001b[0m\u001b[0;34m.\u001b[0m\u001b[0masync_wait\u001b[0m\u001b[0;34m(\u001b[0m\u001b[0;34m)\u001b[0m\u001b[0;34m\u001b[0m\u001b[0;34m\u001b[0m\u001b[0m\n",
      "\u001b[0;32m/usr/local/lib/python3.9/site-packages/tensorflow/python/util/traceback_utils.py\u001b[0m in \u001b[0;36merror_handler\u001b[0;34m(*args, **kwargs)\u001b[0m\n\u001b[1;32m    148\u001b[0m     \u001b[0mfiltered_tb\u001b[0m \u001b[0;34m=\u001b[0m \u001b[0;32mNone\u001b[0m\u001b[0;34m\u001b[0m\u001b[0;34m\u001b[0m\u001b[0m\n\u001b[1;32m    149\u001b[0m     \u001b[0;32mtry\u001b[0m\u001b[0;34m:\u001b[0m\u001b[0;34m\u001b[0m\u001b[0;34m\u001b[0m\u001b[0m\n\u001b[0;32m--> 150\u001b[0;31m       \u001b[0;32mreturn\u001b[0m \u001b[0mfn\u001b[0m\u001b[0;34m(\u001b[0m\u001b[0;34m*\u001b[0m\u001b[0margs\u001b[0m\u001b[0;34m,\u001b[0m \u001b[0;34m**\u001b[0m\u001b[0mkwargs\u001b[0m\u001b[0;34m)\u001b[0m\u001b[0;34m\u001b[0m\u001b[0;34m\u001b[0m\u001b[0m\n\u001b[0m\u001b[1;32m    151\u001b[0m     \u001b[0;32mexcept\u001b[0m \u001b[0mException\u001b[0m \u001b[0;32mas\u001b[0m \u001b[0me\u001b[0m\u001b[0;34m:\u001b[0m\u001b[0;34m\u001b[0m\u001b[0;34m\u001b[0m\u001b[0m\n\u001b[1;32m    152\u001b[0m       \u001b[0mfiltered_tb\u001b[0m \u001b[0;34m=\u001b[0m \u001b[0m_process_traceback_frames\u001b[0m\u001b[0;34m(\u001b[0m\u001b[0me\u001b[0m\u001b[0;34m.\u001b[0m\u001b[0m__traceback__\u001b[0m\u001b[0;34m)\u001b[0m\u001b[0;34m\u001b[0m\u001b[0;34m\u001b[0m\u001b[0m\n",
      "\u001b[0;32m/usr/local/lib/python3.9/site-packages/tensorflow/python/eager/def_function.py\u001b[0m in \u001b[0;36m__call__\u001b[0;34m(self, *args, **kwds)\u001b[0m\n\u001b[1;32m    913\u001b[0m \u001b[0;34m\u001b[0m\u001b[0m\n\u001b[1;32m    914\u001b[0m       \u001b[0;32mwith\u001b[0m \u001b[0mOptionalXlaContext\u001b[0m\u001b[0;34m(\u001b[0m\u001b[0mself\u001b[0m\u001b[0;34m.\u001b[0m\u001b[0m_jit_compile\u001b[0m\u001b[0;34m)\u001b[0m\u001b[0;34m:\u001b[0m\u001b[0;34m\u001b[0m\u001b[0;34m\u001b[0m\u001b[0m\n\u001b[0;32m--> 915\u001b[0;31m         \u001b[0mresult\u001b[0m \u001b[0;34m=\u001b[0m \u001b[0mself\u001b[0m\u001b[0;34m.\u001b[0m\u001b[0m_call\u001b[0m\u001b[0;34m(\u001b[0m\u001b[0;34m*\u001b[0m\u001b[0margs\u001b[0m\u001b[0;34m,\u001b[0m \u001b[0;34m**\u001b[0m\u001b[0mkwds\u001b[0m\u001b[0;34m)\u001b[0m\u001b[0;34m\u001b[0m\u001b[0;34m\u001b[0m\u001b[0m\n\u001b[0m\u001b[1;32m    916\u001b[0m \u001b[0;34m\u001b[0m\u001b[0m\n\u001b[1;32m    917\u001b[0m       \u001b[0mnew_tracing_count\u001b[0m \u001b[0;34m=\u001b[0m \u001b[0mself\u001b[0m\u001b[0;34m.\u001b[0m\u001b[0mexperimental_get_tracing_count\u001b[0m\u001b[0;34m(\u001b[0m\u001b[0;34m)\u001b[0m\u001b[0;34m\u001b[0m\u001b[0;34m\u001b[0m\u001b[0m\n",
      "\u001b[0;32m/usr/local/lib/python3.9/site-packages/tensorflow/python/eager/def_function.py\u001b[0m in \u001b[0;36m_call\u001b[0;34m(self, *args, **kwds)\u001b[0m\n\u001b[1;32m    945\u001b[0m       \u001b[0;31m# In this case we have created variables on the first call, so we run the\u001b[0m\u001b[0;34m\u001b[0m\u001b[0;34m\u001b[0m\u001b[0m\n\u001b[1;32m    946\u001b[0m       \u001b[0;31m# defunned version which is guaranteed to never create variables.\u001b[0m\u001b[0;34m\u001b[0m\u001b[0;34m\u001b[0m\u001b[0m\n\u001b[0;32m--> 947\u001b[0;31m       \u001b[0;32mreturn\u001b[0m \u001b[0mself\u001b[0m\u001b[0;34m.\u001b[0m\u001b[0m_stateless_fn\u001b[0m\u001b[0;34m(\u001b[0m\u001b[0;34m*\u001b[0m\u001b[0margs\u001b[0m\u001b[0;34m,\u001b[0m \u001b[0;34m**\u001b[0m\u001b[0mkwds\u001b[0m\u001b[0;34m)\u001b[0m  \u001b[0;31m# pylint: disable=not-callable\u001b[0m\u001b[0;34m\u001b[0m\u001b[0;34m\u001b[0m\u001b[0m\n\u001b[0m\u001b[1;32m    948\u001b[0m     \u001b[0;32melif\u001b[0m \u001b[0mself\u001b[0m\u001b[0;34m.\u001b[0m\u001b[0m_stateful_fn\u001b[0m \u001b[0;32mis\u001b[0m \u001b[0;32mnot\u001b[0m \u001b[0;32mNone\u001b[0m\u001b[0;34m:\u001b[0m\u001b[0;34m\u001b[0m\u001b[0;34m\u001b[0m\u001b[0m\n\u001b[1;32m    949\u001b[0m       \u001b[0;31m# Release the lock early so that multiple threads can perform the call\u001b[0m\u001b[0;34m\u001b[0m\u001b[0;34m\u001b[0m\u001b[0m\n",
      "\u001b[0;32m/usr/local/lib/python3.9/site-packages/tensorflow/python/eager/function.py\u001b[0m in \u001b[0;36m__call__\u001b[0;34m(self, *args, **kwargs)\u001b[0m\n\u001b[1;32m   2954\u001b[0m       (graph_function,\n\u001b[1;32m   2955\u001b[0m        filtered_flat_args) = self._maybe_define_function(args, kwargs)\n\u001b[0;32m-> 2956\u001b[0;31m     return graph_function._call_flat(\n\u001b[0m\u001b[1;32m   2957\u001b[0m         filtered_flat_args, captured_inputs=graph_function.captured_inputs)  # pylint: disable=protected-access\n\u001b[1;32m   2958\u001b[0m \u001b[0;34m\u001b[0m\u001b[0m\n",
      "\u001b[0;32m/usr/local/lib/python3.9/site-packages/tensorflow/python/eager/function.py\u001b[0m in \u001b[0;36m_call_flat\u001b[0;34m(self, args, captured_inputs, cancellation_manager)\u001b[0m\n\u001b[1;32m   1851\u001b[0m         and executing_eagerly):\n\u001b[1;32m   1852\u001b[0m       \u001b[0;31m# No tape is watching; skip to running the function.\u001b[0m\u001b[0;34m\u001b[0m\u001b[0;34m\u001b[0m\u001b[0m\n\u001b[0;32m-> 1853\u001b[0;31m       return self._build_call_outputs(self._inference_function.call(\n\u001b[0m\u001b[1;32m   1854\u001b[0m           ctx, args, cancellation_manager=cancellation_manager))\n\u001b[1;32m   1855\u001b[0m     forward_backward = self._select_forward_and_backward_functions(\n",
      "\u001b[0;32m/usr/local/lib/python3.9/site-packages/tensorflow/python/eager/function.py\u001b[0m in \u001b[0;36mcall\u001b[0;34m(self, ctx, args, cancellation_manager)\u001b[0m\n\u001b[1;32m    497\u001b[0m       \u001b[0;32mwith\u001b[0m \u001b[0m_InterpolateFunctionError\u001b[0m\u001b[0;34m(\u001b[0m\u001b[0mself\u001b[0m\u001b[0;34m)\u001b[0m\u001b[0;34m:\u001b[0m\u001b[0;34m\u001b[0m\u001b[0;34m\u001b[0m\u001b[0m\n\u001b[1;32m    498\u001b[0m         \u001b[0;32mif\u001b[0m \u001b[0mcancellation_manager\u001b[0m \u001b[0;32mis\u001b[0m \u001b[0;32mNone\u001b[0m\u001b[0;34m:\u001b[0m\u001b[0;34m\u001b[0m\u001b[0;34m\u001b[0m\u001b[0m\n\u001b[0;32m--> 499\u001b[0;31m           outputs = execute.execute(\n\u001b[0m\u001b[1;32m    500\u001b[0m               \u001b[0mstr\u001b[0m\u001b[0;34m(\u001b[0m\u001b[0mself\u001b[0m\u001b[0;34m.\u001b[0m\u001b[0msignature\u001b[0m\u001b[0;34m.\u001b[0m\u001b[0mname\u001b[0m\u001b[0;34m)\u001b[0m\u001b[0;34m,\u001b[0m\u001b[0;34m\u001b[0m\u001b[0;34m\u001b[0m\u001b[0m\n\u001b[1;32m    501\u001b[0m               \u001b[0mnum_outputs\u001b[0m\u001b[0;34m=\u001b[0m\u001b[0mself\u001b[0m\u001b[0;34m.\u001b[0m\u001b[0m_num_outputs\u001b[0m\u001b[0;34m,\u001b[0m\u001b[0;34m\u001b[0m\u001b[0;34m\u001b[0m\u001b[0m\n",
      "\u001b[0;32m/usr/local/lib/python3.9/site-packages/tensorflow/python/eager/execute.py\u001b[0m in \u001b[0;36mquick_execute\u001b[0;34m(op_name, num_outputs, inputs, attrs, ctx, name)\u001b[0m\n\u001b[1;32m     52\u001b[0m   \u001b[0;32mtry\u001b[0m\u001b[0;34m:\u001b[0m\u001b[0;34m\u001b[0m\u001b[0;34m\u001b[0m\u001b[0m\n\u001b[1;32m     53\u001b[0m     \u001b[0mctx\u001b[0m\u001b[0;34m.\u001b[0m\u001b[0mensure_initialized\u001b[0m\u001b[0;34m(\u001b[0m\u001b[0;34m)\u001b[0m\u001b[0;34m\u001b[0m\u001b[0;34m\u001b[0m\u001b[0m\n\u001b[0;32m---> 54\u001b[0;31m     tensors = pywrap_tfe.TFE_Py_Execute(ctx._handle, device_name, op_name,\n\u001b[0m\u001b[1;32m     55\u001b[0m                                         inputs, attrs, num_outputs)\n\u001b[1;32m     56\u001b[0m   \u001b[0;32mexcept\u001b[0m \u001b[0mcore\u001b[0m\u001b[0;34m.\u001b[0m\u001b[0m_NotOkStatusException\u001b[0m \u001b[0;32mas\u001b[0m \u001b[0me\u001b[0m\u001b[0;34m:\u001b[0m\u001b[0;34m\u001b[0m\u001b[0;34m\u001b[0m\u001b[0m\n",
      "\u001b[0;31mKeyboardInterrupt\u001b[0m: "
     ]
    }
   ],
   "source": [
    "model.fit(X_train_aug, y_train_aug, batch_size=32, epochs=5,validation_data=(X_val, y_val))"
   ]
  },
  {
   "cell_type": "code",
   "execution_count": null,
   "id": "691cbbf5",
   "metadata": {},
   "outputs": [],
   "source": [
    "predictions = model.predict(X_test)\n",
    "predictions = np.argmax(predictions,axis=1)"
   ]
  },
  {
   "cell_type": "code",
   "execution_count": null,
   "id": "04a9d806",
   "metadata": {},
   "outputs": [],
   "source": [
    "cm_mat = np.array(confusion_matrix(y_test,predictions)).astype(int)\n",
    "\n",
    "cm_df = pd.DataFrame(cm_mat, index = [i for i in labels],\n",
    "                  columns = [i for i in labels])\n",
    "plt.figure(figsize = (15,15))\n",
    "sns.heatmap(cm_df, annot=True)"
   ]
  },
  {
   "cell_type": "code",
   "execution_count": null,
   "id": "a40b27f0",
   "metadata": {},
   "outputs": [],
   "source": [
    "# Pick a number\n",
    "n = 122\n",
    "\n",
    "# Plot and check if prediction matches\n",
    "plot_sign(X_test,y_test,n)\n",
    "print(colour.BOLD+f\"Model Predicted: {label_name[predictions[n]]}\"+colour.END)"
   ]
  },
  {
   "cell_type": "code",
   "execution_count": null,
   "id": "5f393707",
   "metadata": {},
   "outputs": [],
   "source": []
  }
 ],
 "metadata": {
  "kernelspec": {
   "display_name": "Python 3 (ipykernel)",
   "language": "python",
   "name": "python3"
  },
  "language_info": {
   "codemirror_mode": {
    "name": "ipython",
    "version": 3
   },
   "file_extension": ".py",
   "mimetype": "text/x-python",
   "name": "python",
   "nbconvert_exporter": "python",
   "pygments_lexer": "ipython3",
   "version": "3.9.10"
  }
 },
 "nbformat": 4,
 "nbformat_minor": 5
}
